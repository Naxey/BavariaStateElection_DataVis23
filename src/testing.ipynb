{
 "cells": [
  {
   "cell_type": "markdown",
   "metadata": {},
   "source": [
    "# übersicht im wirrwarr\n",
    "- [interactive plots](#interactive-plots)"
   ]
  },
  {
   "cell_type": "markdown",
   "metadata": {},
   "source": [
    "# interactive plots"
   ]
  },
  {
   "cell_type": "code",
   "execution_count": null,
   "metadata": {},
   "outputs": [],
   "source": [
    "# importing the required libraries\n",
    "import matplotlib.pyplot as plt\n",
    "import pandas as pd\n",
    "\n",
    "import folium\n",
    "from owslib.wms import WebMapService\n",
    "\n",
    "import ipywidgets as widgets\n",
    "from IPython.display import display\n",
    "\n",
    "import numpy as np\n",
    "import plotly.express as px\n"
   ]
  },
  {
   "cell_type": "code",
   "execution_count": null,
   "metadata": {},
   "outputs": [],
   "source": [
    "#all data\n",
    "\n",
    "df = pd.read_csv(\"./data/energiebilanz/E5_Bruttostromerzeugung_allgemeine_1955_2021.csv\")\n",
    "df = df.replace('.', None)\n",
    "\n",
    "df2 = pd.read_csv(\"./data/testkraftwerk/watt.csv\")\n"
   ]
  },
  {
   "cell_type": "code",
   "execution_count": null,
   "metadata": {},
   "outputs": [],
   "source": [
    "#plot testing\n",
    "for column in df.columns:\n",
    "    df[column] = pd.to_numeric(df[column], errors='coerce')\n",
    "plt.figure(figsize=(14,7))\n",
    "for i in range(1, df.shape[1]):\n",
    "    plt.plot(df['Year'], df[df.columns[i]], label=df.columns[i])\n",
    "plt.xlabel('Year')\n",
    "plt.ylabel('Mio kWh')\n",
    "plt.title('Bruttostromerzeugung in Bayern')\n",
    "plt.legend(loc='upper left')\n",
    "plt.xticks(rotation=45)\n",
    "plt.show()"
   ]
  },
  {
   "cell_type": "code",
   "execution_count": null,
   "metadata": {},
   "outputs": [],
   "source": []
  },
  {
   "cell_type": "code",
   "execution_count": null,
   "metadata": {},
   "outputs": [],
   "source": [
    "#slider testing\n",
    "def my_function(number_1, number_2, my_string, someint):\n",
    "    result = number_1 * number_2\n",
    "    print(f'{my_string}: {result} : {someint}')\n",
    "\n",
    "widgets.interact(my_function, \n",
    "    number_1=widgets.IntSlider(min=1, max=100, step=1, value=10), \n",
    "    number_2=widgets.FloatSlider(min=1, max=10.0, step=0.5, value=5.0), \n",
    "    my_string=widgets.Text(value='Product'),\n",
    "    someint=widgets.FloatText(value=10, description='Number: ', disabled=False, continuous_update=True)\n",
    ")\n"
   ]
  },
  {
   "cell_type": "code",
   "execution_count": null,
   "metadata": {},
   "outputs": [],
   "source": [
    "def plot_data(start_year, end_year):\n",
    "    plt.figure(figsize=(14,7))\n",
    "\n",
    "    filtered_df = df[(df['Year'] >= start_year) & (df['Year'] <= end_year)]\n",
    "\n",
    "    for i in range(1, filtered_df.shape[1]):\n",
    "        plt.plot(filtered_df['Year'], filtered_df[filtered_df.columns[i]], label=filtered_df.columns[i])\n",
    "\n",
    "    plt.xlabel('Year')\n",
    "    plt.ylabel('Mio kWh')\n",
    "    plt.title('Energy Source Usage Over Time')\n",
    "    plt.legend(loc='upper left')\n",
    "    plt.xticks(rotation=45)\n",
    "    plt.show()\n",
    "\n",
    "start_year_slider = widgets.IntSlider(min=df['Year'].min(), max=df['Year'].max(), step=1, description='Start Year:', continuous_update=False)\n",
    "end_year_slider = widgets.IntSlider(min=df['Year'].min(), max=df['Year'].max(), step=1, description='End Year:', continuous_update=False)\n",
    "\n",
    "widgets.interact(plot_data, start_year=start_year_slider, end_year=end_year_slider)\n"
   ]
  },
  {
   "cell_type": "code",
   "execution_count": null,
   "metadata": {},
   "outputs": [],
   "source": [
    "year_range_slider = widgets.IntRangeSlider(\n",
    "    value=[df['Year'].min(), df['Year'].max()],\n",
    "    min=df['Year'].min(),\n",
    "    max=df['Year'].max(),\n",
    "    step=1,\n",
    "    description='Year Range:',\n",
    "    continuous_update=False\n",
    ")\n",
    "def plot_data(year_range):\n",
    "    plt.figure(figsize=(14,7))\n",
    "\n",
    "    filtered_df = df[(df['Year'] >= year_range[0]) & (df['Year'] <= year_range[1])]\n",
    "\n",
    "    for i in range(1, filtered_df.shape[1]):\n",
    "        plt.plot(filtered_df['Year'], filtered_df[filtered_df.columns[i]], label=filtered_df.columns[i])\n",
    "\n",
    "    plt.xlabel('Year')\n",
    "    plt.ylabel('Mio kWh')\n",
    "    plt.title('Energy Source Usage Over Time')\n",
    "    plt.legend(loc='upper left')\n",
    "    plt.xticks(rotation=45)\n",
    "    plt.show()\n",
    "widgets.interact(plot_data, year_range=year_range_slider)\n"
   ]
  },
  {
   "cell_type": "code",
   "execution_count": null,
   "metadata": {},
   "outputs": [],
   "source": [
    "#plot testing\n",
    "#df = df.replace('.', None)\n",
    "plt.figure(figsize=(14,7))\n",
    "df2.plot(x='Timestamp', y='State')\n",
    "plt.xlabel('Time')\n",
    "plt.ylabel('Watt')\n",
    "plt.title('Stromerzeugung in Watt')\n",
    "plt.xticks(rotation=45)\n",
    "# xticks step\n",
    "plt.xticks(np.arange(0, len(df2['Timestamp']), 100))\n",
    "plt.show()"
   ]
  },
  {
   "cell_type": "code",
   "execution_count": null,
   "metadata": {},
   "outputs": [],
   "source": [
    "def create_map(wms_url, layer_name, select_lat, select_lon, header):\n",
    "    #wms = WebMapService('https://www.lfu.bayern.de/gdi/wms/energieatlas/statistik_photovoltaik?REQUEST=GetCapabilities&SERVICE=WMS')\n",
    "\n",
    "    germany_location = [48.99, 11.240785]\n",
    "    select_location = [select_lat, select_lon]\n",
    "    m = folium.Map(germany_location, zoom_start=8, dragging=False, zoom_control=False, scrollWheelZoom=False, doubleClickZoom=False, touchZoom=False, width='80%')\n",
    "        \n",
    "    folium.WmsTileLayer(\n",
    "        url=wms_url,\n",
    "        layers=layer_name,\n",
    "        name=layer_name,\n",
    "        fmt='image/png',\n",
    "        transparent=True\n",
    "    ).add_to(m)\n",
    "\n",
    "    movemarker = folium.Marker(select_location, tooltip=None, popup=None, draggable=False)\n",
    "    m.add_child(movemarker)\n",
    "\n",
    "    folium.LatLngPopup().add_to(m)\n",
    "    folium.LayerControl().add_to(m)\n",
    "    \n",
    "    display(header, m)"
   ]
  },
  {
   "cell_type": "code",
   "execution_count": null,
   "metadata": {},
   "outputs": [],
   "source": [
    "def interact_pv_gem(select_lat, select_lon, month, panel_watt, panel_count, wechselrichter_watt, price_balkonkraftwerk, price_kwh, verbrauch_kwh_pro_jahr):\n",
    "    #map für den Gesammtverbrauch einer Gemeinde\n",
    "    wms_verbrauch=WebMapService('https://www.lfu.bayern.de/gdi/wms/energieatlas/statistik_photovoltaik?REQUEST=GetCapabilities&SERVICE=WMS').url\n",
    "    create_map(wms_url=wms_verbrauch, layer_name='anteil_pv_gem', select_lat=select_lat, select_lon=select_lon, \n",
    "        header=\"Diese Karte zeigt den Anteil des Gesamtverbrauchs einer Gemeinde, der durch erneuerbare Energien (z.B. Photovoltaic) gedeckt wird. Der Anteil wird in Prozent angegeben.\")\n",
    "    \n",
    "    #map für die Globalstrahlung\n",
    "    wms_globalstrahlung=WebMapService('https://wirtschaft-risby.bayern.de/RisGate/servlet/Globalstrahlung').url\n",
    "    def month_from_number(int):\n",
    "        months = ['januar', 'februar', 'maerz', 'april', 'mai', 'juni', 'juli', 'august', 'september', 'oktober', 'november', 'dezember', 'jahr']\n",
    "        return months[int-1]\n",
    "    strahlung_zeit = 'Globalstrahlung_' + month_from_number(month)\n",
    "    create_map(wms_url=wms_globalstrahlung, layer_name=strahlung_zeit, select_lat=select_lat, select_lon=select_lon,\n",
    "        header=\"Diese Karte zeigt die Globalstrahlung in Bayern. Die Globalstrahlung ist die Summe aus direkter und diffuser Strahlung. Die Globalstrahlung wird in kWh/m² angegeben.\")\n",
    "    \n",
    "print(\"Hier können auch andere Werte eingegeben werden. Die Werte werden dann in der Karte angezeigt.\")\n",
    "\n",
    "widgets.interact(interact_pv_gem,\n",
    "    select_lat=widgets.Text(value='48.15451802076226', description='Longitude:', disabled=False, continuous_update=False, style={'description_width': 'initial'}, layout=widgets.Layout(width='fit-content')),\n",
    "    select_lon=widgets.Text(value='11.556412766827073', description='Latitude: ', disabled=False, continuous_update=False, style={'description_width': 'initial'}, layout=widgets.Layout(width='fit-content')),\n",
    "    month=widgets.IntSlider(min=1, max=13, step=1, value=1, description='Month (13 for whole year):', continuous_update=False, style={'description_width': 'initial'}, layout=widgets.Layout(width='40%')),\n",
    "    panel_watt=widgets.IntText(value=300, description='Watt per Panel:', disabled=False, continuous_update=False, style={'description_width': 'initial'}, layout=widgets.Layout(width='fit-content')),\n",
    "    panel_count=widgets.IntText(value=1, description='Panel Count:', disabled=False, continuous_update=False, style={'description_width': 'initial'}, layout=widgets.Layout(width='fit-content')),\n",
    "    wechselrichter_watt=widgets.IntText(value=600, description='Wechselrichter:', disabled=False, continuous_update=False, style={'description_width': 'initial'}, layout=widgets.Layout(width='fit-content')),\n",
    "    price_balkonkraftwerk=widgets.IntText(value=1070, description='Balkonkraftwerk Price:', disabled=False, continuous_update=False, style={'description_width': 'initial'}, layout=widgets.Layout(width='fit-content')),\n",
    "    price_kwh=widgets.FloatText(value=0.3, description='Price per kWh in €:', disabled=False, continuous_update=False, style={'description_width': 'initial'}, layout=widgets.Layout(width='fit-content')),\n",
    "    verbrauch_kwh_pro_jahr=widgets.IntText(value=3000, description='Verbrauch kWh pro Jahr:', disabled=False, continuous_update=False, style={'description_width': 'initial'}, layout=widgets.Layout(width='fit-content'))\n",
    ")"
   ]
  },
  {
   "cell_type": "code",
   "execution_count": null,
   "metadata": {},
   "outputs": [],
   "source": [
    "for layer in WebMapService('https://wirtschaft-risby.bayern.de/RisGate/servlet/Globalstrahlung').contents:\n",
    "\tprint(layer)"
   ]
  },
  {
   "cell_type": "code",
   "execution_count": null,
   "metadata": {},
   "outputs": [],
   "source": [
    "# import requests\n",
    "\n",
    "# # Define the parameters for the GetFeatureInfo request\n",
    "# base_url = \"https://wirtschaft-risby.bayern.de/RisGate/servlet/Globalstrahlung\"\n",
    "# wms_layer = \"globalstrahlung_januar\"\n",
    "# format = \"image/png\"\n",
    "# width = 1000000\n",
    "# height = 1000000\n",
    "# x = 0\n",
    "# y = 0\n",
    "# bbox = \"<minx>,<miny>,<maxx>,<maxy>\"\n",
    "# srs = \"EPSG:4326\"\n",
    "# info_format = \"text/xml\"\n",
    "\n",
    "# # Construct the GetFeatureInfo request URL\n",
    "# get_feature_info_url = f\"{base_url}?service=WMS&version=1.1.1&request=GetFeatureInfo&layers={wms_layer}&query_layers={wms_layer}&format={format}&width={width}&height={height}&x={x}&y={y}&bbox={bbox}&srs={srs}&info_format={info_format}\"\n",
    "\n",
    "# # Make the GetFeatureInfo request\n",
    "# response = requests.get(get_feature_info_url)\n",
    "\n",
    "# # Check the response status code\n",
    "# if response.status_code == 200:\n",
    "#     # Process the response data according to your needs\n",
    "#     data = response.text\n",
    "#     print(data)\n",
    "# else:\n",
    "#     print(f\"Error: {response.status_code} - {response.reason}\")"
   ]
  },
  {
   "cell_type": "code",
   "execution_count": null,
   "metadata": {},
   "outputs": [],
   "source": [
    "def get_data_from_wms(url, layer_name, lat, lon):\n",
    "    from pyproj import Transformer\n",
    "    target_crs = 'EPSG:4326'\n",
    "    source_crs = 'EPSG:4326'\n",
    "    transformer = Transformer.from_crs(source_crs, target_crs)\n",
    "    lon, lat = transformer.transform(lon, lat)\n",
    "\n",
    "    minx = lon -0.00001\n",
    "    maxx = lon +0.00001\n",
    "    miny = lat -0.00001\n",
    "    maxy = lat +0.00001\n",
    "    width = 1\n",
    "    height = 1\n",
    "    x = width / 2\n",
    "    y = height / 2\n",
    "    \n",
    "    wms = WebMapService(url)\n",
    "    response = wms.getfeatureinfo(\n",
    "        layers=[layer_name],\n",
    "        format='application/json',\n",
    "        bbox=(minx, miny, maxx, maxy),\n",
    "        size=(width, height),\n",
    "        srs='EPSG:4326',\n",
    "        query_layers=[layer_name],\n",
    "        xy=(x, y),\n",
    "        info_format='application/json'\n",
    "    )\n",
    "\n",
    "    data = response.read()\n",
    "    return data\n",
    "\n",
    "testdata = get_data_from_wms('https://wirtschaft-risby.bayern.de/RisGate/servlet/Globalstrahlung', 'globalstrahlung_januar', 48.1537, 11.5406)\n",
    "print(str(str(testdata)[2:-1]).replace(r'\\n', '\\n').replace(r'\\r', '\\r'))"
   ]
  },
  {
   "cell_type": "code",
   "execution_count": null,
   "metadata": {},
   "outputs": [],
   "source": [
    "def parse_xml(data, dataname):\n",
    "\timport xml.etree.ElementTree as ET\n",
    "\troot = ET.fromstring(data)\n",
    "\tfields_element = root.find('.//{http://www.esri.com/wms}FIELDS')\n",
    "\trdata = fields_element.get(dataname)\n",
    "\treturn rdata\n",
    "\n",
    "parse_xml(get_data_from_wms('https://wirtschaft-risby.bayern.de/RisGate/servlet/Globalstrahlung', 'globalstrahlung_januar', 48.1537, 11.5406), 'radiation_class')"
   ]
  },
  {
   "cell_type": "code",
   "execution_count": null,
   "metadata": {},
   "outputs": [],
   "source": [
    "def get_data_from_wms_parse_xml(url, layer_name, lat, lon, dataname):\n",
    "    #hier wird ein möglichst kleiner Bereich um den Marker herum abgefragt\n",
    "    multiplier = 1\n",
    "    rdata = None\n",
    "    \n",
    "    while rdata == None:\n",
    "        multiplier_small = multiplier / 1000 \n",
    "        \n",
    "        minx = lon -multiplier_small\n",
    "        maxx = lon +multiplier_small\n",
    "        miny = lat -multiplier_small\n",
    "        maxy = lat +multiplier_small\n",
    "        \n",
    "        width = multiplier\n",
    "        height = multiplier\n",
    "        x = width / 2\n",
    "        y = height / 2\n",
    "        \n",
    "        wms = WebMapService(url)\n",
    "        response = wms.getfeatureinfo(\n",
    "            layers=[layer_name],\n",
    "            format='application/json',\n",
    "            bbox=(minx, miny, maxx, maxy),\n",
    "            size=(width, height),\n",
    "            srs='EPSG:4326',\n",
    "            query_layers=[layer_name],\n",
    "            xy=(x, y),\n",
    "            info_format='application/json'\n",
    "        )\n",
    "        data = response.read()\n",
    "        \n",
    "        root = ET.fromstring(data)\n",
    "        fields_element = root.find('.//{http://www.esri.com/wms}FIELDS')\n",
    "        rdata = fields_element.get(dataname)\n",
    "        multiplier = multiplier * 10\n",
    "    return rdata"
   ]
  },
  {
   "cell_type": "code",
   "execution_count": null,
   "metadata": {},
   "outputs": [],
   "source": [
    "data = '168 - 171 kWh/m²'\n",
    "data2 = '168 - 171'\n",
    "\n",
    "\n",
    "def getDataMean(data):\n",
    "    return [int(s) for s in data.split() if s.isdigit()]\n",
    "\n",
    "\n",
    "print(getDataMean(data))\n",
    "print(getDataMean(data2))"
   ]
  },
  {
   "cell_type": "code",
   "execution_count": null,
   "metadata": {},
   "outputs": [],
   "source": [
    "for i in range(13):\n",
    "\tprint(i+1)"
   ]
  },
  {
   "cell_type": "code",
   "execution_count": null,
   "metadata": {},
   "outputs": [],
   "source": [
    "days_in_month = [31,28,31,30,31,30,31,31,30,31,30,31]\n",
    "sum(days_in_month)"
   ]
  },
  {
   "cell_type": "code",
   "execution_count": null,
   "metadata": {},
   "outputs": [],
   "source": [
    "365/31"
   ]
  },
  {
   "cell_type": "code",
   "execution_count": null,
   "metadata": {},
   "outputs": [],
   "source": [
    "import requests\n",
    "# Define the URL of the Web Map Service\n",
    "url = 'https://www.lfu.bayern.de/gdi/wms/energieatlas/statistik_photovoltaik?service=WMS&request=GetCapabilities'\n",
    "# Send a GET request to the WMS service URL\n",
    "response = requests.get(url)\n",
    "# Access the XML data\n",
    "xml_data = response.text\n",
    "# Print the XML data\n",
    "print(xml_data)\n"
   ]
  },
  {
   "cell_type": "code",
   "execution_count": null,
   "metadata": {},
   "outputs": [],
   "source": [
    "from owslib.wms import WebMapService\n",
    "\n",
    "wms_url = 'https://www.lfu.bayern.de/gdi/wms/energieatlas/statistik_photovoltaik?service=WMS&request=GetCapabilities'\n",
    "wms = WebMapService(wms_url)\n",
    "\n",
    "print(f'WMS version: {wms.identification.version}')\n",
    "print(f'WMS title: {wms.identification.title}')\n"
   ]
  },
  {
   "cell_type": "code",
   "execution_count": null,
   "metadata": {},
   "outputs": [],
   "source": [
    "from owslib.wms import WebMapService\n",
    "\n",
    "# Define the URL of the Web Map Service\n",
    "url = 'https://www.lfu.bayern.de/gdi/wms/energieatlas/statistik_photovoltaik?service=WMS&request=GetCapabilities'\n",
    "\n",
    "# Create a WebMapService object\n",
    "wms = WebMapService(url, version='1.1.1')\n",
    "# Select a specific layer\n",
    "layer_name = 'anteil_pv_gem'\n",
    "# Check if the layer exists\n",
    "if layer_name in wms.contents:\n",
    "    # Get the layer object\n",
    "    layer = wms[layer_name]\n",
    "\n",
    "    # Access the XML data for the specific layer\n",
    "    xml_data = layer.abstract\n",
    "\n",
    "    # Print the XML data\n",
    "    print(layer)\n",
    "    print(xml_data)\n",
    "    \n",
    "    \n",
    "    \n",
    "else:\n",
    "    print(f\"Layer '{layer_name}' not found in the WMS service.\")\n"
   ]
  },
  {
   "cell_type": "code",
   "execution_count": null,
   "metadata": {},
   "outputs": [],
   "source": [
    "\n",
    "\n",
    "# def get_all_data_from_wms(url, layer_name, lat, lon, dataname):\n",
    "#     # multiplier = 20\n",
    "#     # minx = lon -multiplier\n",
    "#     # maxx = lon +multiplier\n",
    "#     # miny = lat -multiplier\n",
    "#     # maxy = lat +multiplier\n",
    "    \n",
    "#     minx = 8.9\n",
    "#     maxx = 13.9\n",
    "#     miny = 47.2\n",
    "#     maxy = 50.6\n",
    "    \n",
    "#     width = 2500\n",
    "#     height = 2500\n",
    "#     x = width / 2\n",
    "#     y = height / 2\n",
    "    \n",
    "#     wms = WebMapService(url)\n",
    "#     response = wms.getfeatureinfo(\n",
    "#         layers=[layer_name],\n",
    "#         format='application/json',\n",
    "#         bbox=(minx, miny, maxx, maxy),\n",
    "#         size=(width, height),\n",
    "#         srs='EPSG:4326',\n",
    "#         query_layers=[layer_name],\n",
    "#         xy=(x, y),\n",
    "#         info_format='application/json'\n",
    "#     )\n",
    "#     data = response.read()\n",
    "    \n",
    "#     print(data)\n",
    "    \n",
    "#     root = ET.fromstring(data)\n",
    "#     fields_element = root.find('.//{http://www.esri.com/wms}FIELDS')\n",
    "#     rdata = fields_element.get(dataname)\n",
    "    \n",
    "#     for i in subelements:\n",
    "#         rdata.append(i.get(dataname))\n",
    "#     return rdata\n",
    "\n",
    "# def get_sum_from_xml_dump(data):\n",
    "#     sum = 0\n",
    "#     for i in data:\n",
    "#         sum = sum + float(i)\n",
    "#     return sum\n",
    "\n",
    "# wms_url_energie = WebMapService('https://www.lfu.bayern.de/gdi/wms/energieatlas/statistik_photovoltaik?REQUEST=GetCapabilities&SERVICE=WMS').url\n",
    "# get_all_data_from_wms(wms_url_energie, 'anteil_pv_gem', 48.137154, 11.576124, 'Stromverbrauch')"
   ]
  },
  {
   "cell_type": "code",
   "execution_count": null,
   "metadata": {},
   "outputs": [],
   "source": [
    "import pandas as pd\n",
    "import matplotlib.pyplot as plt\n",
    "\n",
    "df = pd.read_csv('./data/energiebilanz/E1_Verbrauch_Strom_Bayern_2018_2020.csv')\n",
    "y_columns = df.columns[1:]\n",
    "df.plot(x='Year', y=y_columns, kind='bar')\n",
    "plt.xlabel('Year')\n",
    "plt.ylabel('Consumption')\n",
    "plt.title('Power Consumption by Category')\n",
    "plt.legend(loc='center left', bbox_to_anchor=(1.0, 0.5))\n",
    "plt.xticks(rotation=45)\n",
    "plt.savefig('output_plot.png')\n",
    "plt.show()\n"
   ]
  },
  {
   "cell_type": "code",
   "execution_count": null,
   "metadata": {},
   "outputs": [],
   "source": [
    "41552333333.333336 / 6500000"
   ]
  },
  {
   "cell_type": "code",
   "execution_count": null,
   "metadata": {},
   "outputs": [],
   "source": [
    "23.43999999999999 /2"
   ]
  },
  {
   "cell_type": "code",
   "execution_count": null,
   "metadata": {},
   "outputs": [],
   "source": []
  }
 ],
 "metadata": {
  "kernelspec": {
   "display_name": "base",
   "language": "python",
   "name": "python3"
  },
  "language_info": {
   "codemirror_mode": {
    "name": "ipython",
    "version": 3
   },
   "file_extension": ".py",
   "mimetype": "text/x-python",
   "name": "python",
   "nbconvert_exporter": "python",
   "pygments_lexer": "ipython3",
   "version": "3.10.9"
  },
  "orig_nbformat": 4
 },
 "nbformat": 4,
 "nbformat_minor": 2
}
