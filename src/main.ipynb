{
 "cells": [
  {
   "attachments": {},
   "cell_type": "markdown",
   "metadata": {},
   "source": [
    "# Datenaufbereitung und Visualisierung Modularbeit\n",
    "\n",
    "Author - Maximilian Hoffmann 2023"
   ]
  },
  {
   "attachments": {},
   "cell_type": "markdown",
   "metadata": {},
   "source": [
    "**Table of Contents**\n",
    "\n",
    "- [Introduction](#introduction)\n",
    "- [Hypothesis](#hypothesis)\n",
    "- [Data](#data)\n",
    "- [Data Preparation](#data-preparation)\n",
    "- [Data Visualization](#data-visualization)\n",
    "- [Data Analysis](#data-analysis)\n",
    "- [Anonymization](#anonymization)\n",
    "- [Conclusion](#conclusion)\n",
    "- [References](#references)\n",
    "- [Schlusswort](#schlusswort)"
   ]
  },
  {
   "attachments": {},
   "cell_type": "markdown",
   "metadata": {},
   "source": [
    "## Introduction\n",
    "\n",
    "Für den Landtagswahlkampf Artikel soll ein Thema gefunden werden, welches relevanz für die Wähler und somit auch den Wahlkampf selbst hat. Dazu soll ein Datensatz gefunden werden, welcher die Relevanz des Themas belegt. Dieser Datensatz soll dann in einer Visualisierung dargestellt werden."
   ]
  },
  {
   "attachments": {},
   "cell_type": "markdown",
   "metadata": {},
   "source": [
    "## Hypothesis\n",
    "\n",
    "Da durch die Energiekostenexplosion im Jahr 2021 [<a id=\"reref1\">[1](#ref1)], die Wähler sich mehr für das Thema Energie interessieren und für eine Energiewende einsetzen. Die Hypothese ist, dass es möglich ist allein durch Balkonkraftwerke die Energieversorgung eines Haushaltes zu decken und somit die Energiekosten zu senken. Diese Hypothese soll durch die Visualisierung belegt werden und Zeigen das eine Lockerung der Gesetze für Balkonkraftwerke sinnvoll ist. Das Ziel Klimaneutral zu werden würde so gefördert werden.\n",
    "\n",
    "Weiterführend soll die Visualisierung zeigen, das durch die steigenden Energiekosten in den letzten Jahren Balkonkraftwerke zukünftig noch mehr an Bedeutung gewinnen werden. Ebenfalls soll gezeigt werden dass der Umstieg von fossilen Brennstoffen auf erneuerbare Energien sinnvoll ist und die abhängigkeit Deutschlands von anderen Ländern verringert.\n",
    "\n",
    "Die Wahl des Balkonkraftwerks entstand da es sich um eine einfache und günstige Möglichkeit handelt, erneuerbare Energien zu nutzen. Hinzu ist es jedem Haushalt möglich, erneuerbare Energien zu nutzen und somit einen Beitrag zum Klimaschutz zu leisten.\n",
    "\n",
    "---\n",
    "\n",
    "Hierzu lassen sich einige zu klärende Fragen ableiten:\n",
    "\n",
    "- Wie viel Energie kann ein Balkonkraftwerk erzeugen?\n",
    "- Wie viel Energie verbraucht ein Haushalt?\n",
    "- Wie viel Energie kann ein Haushalt durch ein Balkonkraftwerk erzeugen?\n",
    "- Wie viel Energie kann ein Haushalt durch ein Balkonkraftwerk einsparen?\n",
    "- Wie schnell amortisiert sich ein Balkonkraftwerk?"
   ]
  },
  {
   "attachments": {},
   "cell_type": "markdown",
   "metadata": {},
   "source": [
    "## Data\n",
    "\n",
    "\n",
    "Die hierzu genutzten Datensätze des Datenarchivs [Open Data Bayern](https://opendata.bayern) sind:\n",
    "\n",
    "- [Anteil Photovoltaik am Stromverbrauch (Gem.)](https://opendata.bayern/datasets/db272dfa-7dfb-45fb-9459-01840a3ce992?locale=de) - Bayerisches Landesamt für Umwelt\n",
    "\t- Dieser Datensatz wurde geählt da er zeigt welchen anteil Photovoltaik am Stromverbrauch hat.\n",
    "- [Anteil erneuerbarer Energien am Stromverbrauch (Gem.)](https://opendata.bayern/datasets/9cebb88d-3877-4afe-a24c-3f24757f8257?locale=de) - Bayerisches Landesamt für Umwelt\n",
    "\t- Dieser Datensatz wurde geählt da er zeigt welchen anteil erneuerbare Energien am Stromverbrauch hat.\n",
    "Zudem wurden Daten aus anderen Quellen genutzt:\n",
    "\n",
    "- [Destatis](https://www.destatis.de/)\n",
    "\t- [Preisentwicklungen](https://www.destatis.de/DE/Presse/Pressemitteilungen/2022/03/PD22_N016_61.html)\n",
    "- [Bayerisches Staatsministerium für Wirtschaft, Landesentwicklung und Energie](https://www.stmwi.bayern.de)\n",
    "\t- [bayerische Energiebilanz 2020](https://www.stmwi.bayern.de/energie/energiedaten/energiebilanz-2020/)\n",
    "\n",
    "Selbst erhobene Daten aus Balkonkraftwerk-Testanlage in München (siehe [Anonymization](#anonymization)):\n",
    "\n",
    "- Die CSV-Datei wurde über die Messung eines zwischengeschalteten Shelly-Plus-1PM (WLAN-Schalter mit Strommessfunktion) erhoben. Der export der Daten erfolgte über [HomeAssistant](https://www.home-assistant.io).\n",
    "\t- Spezifikationen der Balkonkraftwerk-Testanlage:\n",
    "\t\t- 2 Platten mit je 310Watt\n",
    "\t\t- Wecheslrichter mit 600Watt\n",
    "\t\t- 1 Shelly-Plus-1PM"
   ]
  },
  {
   "attachments": {},
   "cell_type": "markdown",
   "metadata": {},
   "source": [
    "## Data Preparation\n",
    "\n",
    "Zur vorbereitung der Daten wurden die verschiedensten Datentypen aus `src/data_raw` manuel in ein nutzbares Format (z.B. CSV) gebracht. Hierzu wurden [Excel](https://www.microsoft.com/en-us/microsoft-365/excel) und [OpenRefine](https://openrefine.org) genutzt. Nach der Bearbeitung wurden die Daten in `src/data` gespeichert. \n",
    "\n",
    "Bei Begegnung sensibler Daten wurde die [Anonymisierung](#anonymization) durchgeführt und in beiden Ordnern übernommen. Wenn Daten schon im passenden Format vorlagen, wurden diese direkt in `src/data` gespeichert.\n",
    "\n",
    "Hin und wieder begegnem einem auch fehlende Daten. Diese werden im Code auch als solche gehandhabt. Im falle der Kartendaten schränkt dies die Visualisierung ein, da die Daten nicht vollständig sind. Hier gab es leider keine Möglichkeit die Daten zu vervollständigen und somit wurde die Visualisierung auf die vorhandenen Daten beschränkt, wenn mit fehlenden Daten versucht wird zu arbeiten wird jedoch versucht einen der breiter gefächerten Datensätze zu nutzen."
   ]
  },
  {
   "attachments": {},
   "cell_type": "markdown",
   "metadata": {},
   "source": [
    "## Data Visualization\n",
    "\n",
    "Für die Datenvisualisierung werden folgende Bibliotheken genutzt:\n",
    "\n",
    "\n",
    "- [Matplotlib](https://matplotlib.org/) for plotting\n",
    "- [Pandas](https://pandas.pydata.org/) for data manipulation\n",
    "- [Numpy](https://numpy.org/) for data manipulation\n",
    "- [Plotly](https://plotly.com/python/) for interactive plots\n",
    "- [ipywidgets](https://ipywidgets.readthedocs.io/en/latest/) for user inputs / interactive plots\n",
    "\n",
    "<!-- TODO: DELETE BELOW -->\n",
    "\n",
    "- [Seaborn](https://seaborn.pydata.org/) for plotting\n",
    "- [Pyproj](https://pyproj4.github.io/pyproj/stable/) for coordinate transformations\n",
    "- [sklearn](https://scikit-learn.org/stable/) for plot prediction\n"
   ]
  },
  {
   "cell_type": "code",
   "execution_count": 1,
   "metadata": {},
   "outputs": [],
   "source": [
    "# importing the required libraries\n",
    "import matplotlib.pyplot as plt\n",
    "import numpy as np\n",
    "import pandas as pd\n",
    "import plotly.express as px\n",
    "from ipywidgets import interact, IntSlider, FloatSlider, Text\n"
   ]
  },
  {
   "attachments": {},
   "cell_type": "markdown",
   "metadata": {},
   "source": [
    "## Data Analysis\n",
    "\n",
    "**Wie viel Energie kann ein Balkonkraftwerk erzeugen?**\n",
    "Hierzu nutzen wir die aus der Testanlage gewonnenen Daten.\n",
    "\n",
    "---\n",
    "\n",
    "**Wie viel Energie verbraucht ein Haushalt?**\n",
    "Hierzu werden Durchschnittsdaten aus dem [Bayerischen Staatsministerium für Wirtschaft, Landesentwicklung und Energie](https://www.stmwi.bayern.de) genutzt.\n",
    "\n",
    "---\n",
    "\n",
    "**Wie viel Energie kann ein Haushalt durch ein Balkonkraftwerk erzeugen?**\n",
    "Hierzu nutzen wir die aus der Testanlage gewonnenen Daten, sowie Erwartungswerte gewonnen aus den [Open Data Bayern](https://opendata.bayern) Datensätzen.\n",
    "Die Erwartungswerte werden sowohl als Durchschnitt als auch für die Monate berechnet. Hierzu werden Historische Daten genutzt.\n",
    "\n",
    "---\n",
    "\n",
    "**Wie viel Stromkosten kann ein Haushalt durch ein Balkonkraftwerk einsparen?**\n",
    "Um die eingesparten Stromkosten zu berechnen wird die Differenz zwischen dem Stromverbrauch und der Stromerzeugung durch das Balkonkraftwerk berechnet. Hierzu werden sowohl die Daten aus der Testanlage genutzt als auch Strompreisdaten.\n",
    "\n",
    "---\n",
    "\n",
    "**Wie schnell amortisiert sich ein Balkonkraftwerk?**\n",
    "Hierzu wird berechnet wie viel für das Balkonkraftwerk ausgegeben werden muss und wie viel durch das Balkonkraftwerk eingespart wird. Hierzu werden die Daten aus der Testanlage genutzt, sowie Strompreisdaten.\n"
   ]
  },
  {
   "attachments": {},
   "cell_type": "markdown",
   "metadata": {},
   "source": [
    "## Anonymization\n",
    "\n",
    "Wie schon in der [Datenvorbereitung](#data-preparation) erwähnt, wurden die Daten mit sensiblen Informationen anonymisiert.\n",
    "\n",
    "Da die in dieser Arbeit genutzten Daten aus öffentlichen Quellen stammen, wurden größtenteils nicht anonymisiert. Die Daten aus der Balkonkraftwerk-Testanlage in München wurden jedoch anonymisiert. Dies wurde durch das entfernen der IP-Adresse und des Standortes erreicht. Die Daten wurden sowohl in `src/data_raw` als auch in `src/data` anonymisiert.\n",
    "\n",
    "Der Grund für die Anonymisierung in diesem Fall der Datenschutz und die Privatsphäre der Nutzer. Die Daten wurden von einem privaten Haushalt erhoben und könnten somit Rückschlüsse auf den Haushalt zulassen. Dies soll durch die Anonymisierung verhindert werden."
   ]
  },
  {
   "attachments": {},
   "cell_type": "markdown",
   "metadata": {},
   "source": [
    "## Conclusion\n",
    "\n",
    "Die oben visualisierten Daten belegen, # TODO: FILL\n",
    "\n",
    "\n",
    "\n",
    "\n",
    "**Anmerkung:** \n",
    "*Hierzu sei zu beachten das einige Felder und Schieberegler bearbeitet werden können, um die Visualisierung zu verändern. Dies ist durch die Nutzung von [ipywidgets](https://ipywidgets.readthedocs.io/en/latest/) möglich. Die Visualisierung ist interaktiv und kann somit vom Nutzer verändert werden. Jegliche Schlussfolgerung die aus der Visualisierung gezogen werden beziehen sich auf die Standardwerte der Schieberegler. Dies dient dem zweck das der Nutzer hier, nicht nur aber auch, seinen eigenen Strompreis oder seinen eigenen Stromverbrauch eintragen kann und somit die Visualisierung für sich anpassen kann.*"
   ]
  },
  {
   "attachments": {},
   "cell_type": "markdown",
   "metadata": {},
   "source": [
    "## References\n",
    "\n",
    "- [<a id=\"ref1\">[1](#reref1)] : [Energiepreisentwicklung](https://www.destatis.de/DE/Presse/Pressemitteilungen/2022/03/PD22_N016_61.html)\n",
    "- [<a id=\"ref2\">[2](#reref2)] : []()"
   ]
  },
  {
   "cell_type": "markdown",
   "metadata": {},
   "source": [
    "## Schlusswort\n",
    "\n",
    "Das Projekt hat echt Spass gemacht, auch wenn die Themasuche etwas länger gedauert hat. Ich habe mich für das Thema Balkonkraftwerk entschieden da ich selbst an der Testanlage beteiligt bin und mich das Thema interessiert. Ehrlich gesagt freue ich mich schon drauf eine ähnliche Datenvisualisierung in mein Home-Assistant/Grafana Dashboard einzubauen wenn die Klausurenphase vorbei ist.\n",
    "\n",
    "Vielleicht überzeug das Projekt ja nicht nur als Modularbeit zum Landtagswahlkampd sondern auch sich Gedanken über ein Balkonkraftwerk zu machen. Man denke nur an die ganzen Balkone die in München bisher ungenutzt bleiben. \n",
    "\n",
    "Die Datei `src/testing.ipynb` hab ich extra drin gelassen da ich diese für die Entwicklung genutzt habe und sie mir als Dokumentation dient. Eventuell versteckt sich ja der ein oder andere interessante Code-Schnipsel darin. "
   ]
  },
  {
   "cell_type": "markdown",
   "metadata": {},
   "source": []
  }
 ],
 "metadata": {
  "kernelspec": {
   "display_name": "Python 3",
   "language": "python",
   "name": "python3"
  },
  "language_info": {
   "codemirror_mode": {
    "name": "ipython",
    "version": 3
   },
   "file_extension": ".py",
   "mimetype": "text/x-python",
   "name": "python",
   "nbconvert_exporter": "python",
   "pygments_lexer": "ipython3",
   "version": "3.10.9"
  },
  "orig_nbformat": 4
 },
 "nbformat": 4,
 "nbformat_minor": 2
}
