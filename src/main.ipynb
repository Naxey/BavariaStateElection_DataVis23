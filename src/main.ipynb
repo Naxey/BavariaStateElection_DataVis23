{
 "cells": [
  {
   "attachments": {},
   "cell_type": "markdown",
   "metadata": {},
   "source": [
    "# Datenaufbereitung und Visualisierung Modularbeit\n",
    "\n",
    "Author - Maximilian Hoffmann 2023"
   ]
  },
  {
   "attachments": {},
   "cell_type": "markdown",
   "metadata": {},
   "source": [
    "**Table of Contents**\n",
    "\n",
    "- [Introduction](#introduction)\n",
    "- [Hypothesis](#hypothesis)\n",
    "- [Data](#data)\n",
    "- [Data Preparation](#data-preparation)\n",
    "- [Data Visualization](#data-visualization)\n",
    "- [Data Analysis](#data-analysis)\n",
    "- [Anonymization](#anonymization)\n",
    "- [Conclusion](#conclusion)\n",
    "- [References](#references)\n",
    "- [Schlusswort](#schlusswort)"
   ]
  },
  {
   "attachments": {},
   "cell_type": "markdown",
   "metadata": {},
   "source": [
    "## Introduction\n",
    "\n",
    "Für den Landtagswahlkampf Artikel soll ein Thema gefunden werden, welches relevanz für die Wähler und somit auch den Wahlkampf selbst hat. Dazu soll ein Datensatz gefunden werden, welcher die Relevanz des Themas belegt. Dieser Datensatz soll dann in einer Visualisierung dargestellt werden."
   ]
  },
  {
   "attachments": {},
   "cell_type": "markdown",
   "metadata": {},
   "source": [
    "## Hypothesis\n",
    "\n",
    "Da durch die Energiekostenexplosion im Jahr 2021 [<a id=\"reref1\">[1](#ref1)], die Wähler sich mehr für das Thema Energie interessieren und für eine Energiewende einsetzen. Die Hypothese ist, dass es möglich ist allein durch Balkonkraftwerke die Energieversorgung eines Haushaltes zu decken und somit die Energiekosten zu senken. Diese Hypothese soll durch die Visualisierung belegt werden und Zeigen das eine Lockerung der Gesetze für Balkonkraftwerke sinnvoll ist. Das Ziel Klimaneutral zu werden würde so gefördert werden.\n",
    "\n",
    "Weiterführend soll die Visualisierung zeigen, das durch die steigenden Energiekosten in den letzten Jahren Balkonkraftwerke zukünftig noch mehr an Bedeutung gewinnen werden. Ebenfalls soll gezeigt werden dass der Umstieg von fossilen Brennstoffen auf erneuerbare Energien sinnvoll ist und die abhängigkeit Deutschlands von anderen Ländern verringert.\n",
    "\n",
    "Die Wahl des Balkonkraftwerks entstand da es sich um eine einfache und günstige Möglichkeit handelt, erneuerbare Energien zu nutzen. Hinzu ist es jedem Haushalt möglich, erneuerbare Energien zu nutzen und somit einen Beitrag zum Klimaschutz zu leisten.\n",
    "\n",
    "---\n",
    "\n",
    "Hierzu lassen sich einige zu klärende Fragen ableiten:\n",
    "\n",
    "- Wie viel Energie kann ein Balkonkraftwerk erzeugen?\n",
    "- Wie viel Energie verbraucht ein Haushalt?\n",
    "- Wie viel Energie kann ein Haushalt durch ein Balkonkraftwerk erzeugen?\n",
    "- Wie viel Energie kann ein Haushalt durch ein Balkonkraftwerk einsparen?\n",
    "- Wie schnell amortisiert sich ein Balkonkraftwerk?"
   ]
  },
  {
   "attachments": {},
   "cell_type": "markdown",
   "metadata": {},
   "source": [
    "## Data\n",
    "\n",
    "\n",
    "Die hierzu genutzten Datensätze des Datenarchivs [Open Data Bayern](https://opendata.bayern) sind:\n",
    "\n",
    "- [Anteil Photovoltaik am Stromverbrauch (Gem.)](https://opendata.bayern/datasets/db272dfa-7dfb-45fb-9459-01840a3ce992?locale=de) - Bayerisches Landesamt für Umwelt\n",
    "\t- Dieser Datensatz wurde geählt da er zeigt welchen anteil Photovoltaik am Stromverbrauch hat.\n",
    "- [Anteil erneuerbarer Energien am Stromverbrauch (Gem.)](https://opendata.bayern/datasets/9cebb88d-3877-4afe-a24c-3f24757f8257?locale=de) - Bayerisches Landesamt für Umwelt\n",
    "\t- Dieser Datensatz wurde geählt da er zeigt welchen anteil erneuerbare Energien am Stromverbrauch hat.\n",
    "Zudem wurden Daten aus anderen Quellen genutzt:\n",
    "\n",
    "- [Destatis](https://www.destatis.de/)\n",
    "\t- [Preisentwicklungen](https://www.destatis.de/DE/Presse/Pressemitteilungen/2022/03/PD22_N016_61.html)\n",
    "- [Bayerisches Staatsministerium für Wirtschaft, Landesentwicklung und Energie](https://www.stmwi.bayern.de)\n",
    "\t- [bayerische Energiebilanz 2020](https://www.stmwi.bayern.de/energie/energiedaten/energiebilanz-2020/)\n",
    "\n",
    "Selbst erhobene Daten aus Balkonkraftwerk-Testanlage in München (siehe [Anonymization](#anonymization)):\n",
    "\n",
    "- Die CSV-Datei wurde über die Messung eines zwischengeschalteten Shelly-Plus-1PM (WLAN-Schalter mit Strommessfunktion) erhoben. Der export der Daten erfolgte über [HomeAssistant](https://www.home-assistant.io).\n",
    "\t- Spezifikationen der Balkonkraftwerk-Testanlage:\n",
    "\t\t- 2 Platten mit je 310Watt\n",
    "\t\t- Wecheslrichter mit 600Watt\n",
    "\t\t- 1 Shelly-Plus-1PM"
   ]
  },
  {
   "attachments": {},
   "cell_type": "markdown",
   "metadata": {},
   "source": [
    "## Data Preparation\n",
    "\n",
    "Zur vorbereitung der Daten wurden die verschiedensten Datentypen aus `src/data_raw` manuel in ein nutzbares Format (z.B. CSV) gebracht. Hierzu wurden [Excel](https://www.microsoft.com/en-us/microsoft-365/excel) und [OpenRefine](https://openrefine.org) genutzt. Nach der Bearbeitung wurden die Daten in `src/data` gespeichert. \n",
    "\n",
    "Bei Begegnung sensibler Daten wurde die [Anonymisierung](#anonymization) durchgeführt und in beiden Ordnern übernommen. Wenn Daten schon im passenden Format vorlagen, wurden diese direkt in `src/data` gespeichert.\n",
    "\n",
    "Hin und wieder begegnem einem auch fehlende Daten. Diese werden im Code auch als solche gehandhabt. Im falle der Kartendaten schränkt dies die Visualisierung ein, da die Daten nicht vollständig sind. Hier gab es leider keine Möglichkeit die Daten zu vervollständigen und somit wurde die Visualisierung auf die vorhandenen Daten beschränkt, wenn mit fehlenden Daten versucht wird zu arbeiten wird jedoch versucht einen der breiter gefächerten Datensätze zu nutzen."
   ]
  },
  {
   "attachments": {},
   "cell_type": "markdown",
   "metadata": {},
   "source": [
    "## Data Visualization\n",
    "\n",
    "Für die Datenvisualisierung werden folgende Bibliotheken genutzt:\n",
    "\n",
    "\n",
    "- [Matplotlib](https://matplotlib.org/) for plotting\n",
    "- [Pandas](https://pandas.pydata.org/) for data manipulation\n",
    "- [Numpy](https://numpy.org/) for data manipulation\n",
    "- [Plotly](https://plotly.com/python/) for interactive plots\n",
    "- [ipywidgets](https://ipywidgets.readthedocs.io/en/latest/) for user inputs / interactive plots\n",
    "\n",
    "<!-- TODO: DELETE BELOW -->\n",
    "\n",
    "- [Seaborn](https://seaborn.pydata.org/) for plotting\n",
    "- [Pyproj](https://pyproj4.github.io/pyproj/stable/) for coordinate transformations\n",
    "- [sklearn](https://scikit-learn.org/stable/) for plot prediction\n"
   ]
  },
  {
   "cell_type": "code",
   "execution_count": 1,
   "metadata": {},
   "outputs": [],
   "source": [
    "# importing the required libraries\n",
    "import matplotlib.pyplot as plt\n",
    "import pandas as pd\n",
    "import ipywidgets as widgets\n",
    "\n",
    "import folium\n",
    "from owslib.wms import WebMapService"
   ]
  },
  {
   "cell_type": "code",
   "execution_count": 2,
   "metadata": {},
   "outputs": [],
   "source": [
    "#Hilfsfunktionen\n",
    "\n",
    "def get_data_from_wms(url, layer_name, lat, lon):\n",
    "    #hier wird ein möglichst kleiner Bereich um den Marker herum abgefragt\n",
    "    minx = lon -0.00001\n",
    "    maxx = lon +0.00001\n",
    "    miny = lat -0.00001\n",
    "    maxy = lat +0.00001\n",
    "    width = 1\n",
    "    height = 1\n",
    "    x = width / 2\n",
    "    y = height / 2\n",
    "    \n",
    "    wms = WebMapService(url)\n",
    "    response = wms.getfeatureinfo(\n",
    "        layers=[layer_name],\n",
    "        format='application/json',\n",
    "        bbox=(minx, miny, maxx, maxy),\n",
    "        size=(width, height),\n",
    "        srs='EPSG:4326',\n",
    "        query_layers=[layer_name],\n",
    "        xy=(x, y),\n",
    "        info_format='application/json'\n",
    "    )\n",
    "\n",
    "    data = response.read()\n",
    "    return data\n",
    "\n",
    "def create_map(wms_url, layer_name, select_lat, select_lon, header):\n",
    "    germany_location = [48.99, 11.240785]\n",
    "    select_location = [select_lat, select_lon]\n",
    "    \n",
    "    #hier wird die Karte erstellt\n",
    "    m = folium.Map(germany_location, zoom_start=8, dragging=False, zoom_control=False, scrollWheelZoom=False, doubleClickZoom=False, touchZoom=False, width='80%')\n",
    "    \n",
    "    #hier wird der WMS Layer hinzugefügt\n",
    "    folium.LatLngPopup().add_to(m)\n",
    "    folium.WmsTileLayer(\n",
    "        url=wms_url,\n",
    "        layers=layer_name,\n",
    "        name=layer_name,\n",
    "        fmt='image/png',\n",
    "        transparent=True\n",
    "    ).add_to(m)\n",
    "\n",
    "    #hier wird der Marker gesetzt\n",
    "    movemarker = folium.Marker(select_location, tooltip=None, popup=None, draggable=False)\n",
    "    m.add_child(movemarker)\n",
    "\n",
    "    display(header, m)\n",
    "    \n",
    "#zum auslesen der Daten aus dem XML\n",
    "def parse_xml(data, dataname):\n",
    "\timport xml.etree.ElementTree as ET\n",
    "\troot = ET.fromstring(data)\n",
    "\tfields_element = root.find('.//{http://www.esri.com/wms}FIELDS')\n",
    "\trdata = fields_element.get(dataname)\n",
    "\treturn rdata"
   ]
  },
  {
   "cell_type": "code",
   "execution_count": 3,
   "metadata": {},
   "outputs": [
    {
     "name": "stdout",
     "output_type": "stream",
     "text": [
      "Hier können auch andere Werte eingegeben werden. Die Werte werden dann in der Karte angezeigt.\n"
     ]
    },
    {
     "data": {
      "application/vnd.jupyter.widget-view+json": {
       "model_id": "1d85e91c5b8d45178aa8b46db937fc77",
       "version_major": 2,
       "version_minor": 0
      },
      "text/plain": [
       "interactive(children=(FloatText(value=48.15451802076226, description='Longitude:', layout=Layout(width='fit-co…"
      ]
     },
     "metadata": {},
     "output_type": "display_data"
    },
    {
     "data": {
      "text/plain": [
       "<function __main__.interact_pv_gem(select_lat, select_lon, month, panel_watt, price_balkonkraftwerk, price_kwh, verbrauch_kwh_pro_jahr, efficiency, panel_area)>"
      ]
     },
     "execution_count": 3,
     "metadata": {},
     "output_type": "execute_result"
    }
   ],
   "source": [
    "#nun zur eigentlichen Visualisierung\n",
    "\n",
    "#diese funktion wird aufgerufen, wenn die interaktive Karte erstellt oder verändert wird\n",
    "def interact_pv_gem(select_lat, select_lon, month, panel_watt, price_balkonkraftwerk, price_kwh, verbrauch_kwh_pro_jahr, efficiency, panel_area):\n",
    "    #karte für den Gesammtverbrauch einer Gemeinde\n",
    "    wms_verbrauch=WebMapService('https://www.lfu.bayern.de/gdi/wms/energieatlas/statistik_photovoltaik?REQUEST=GetCapabilities&SERVICE=WMS').url\n",
    "    create_map(wms_url=wms_verbrauch, layer_name='anteil_pv_gem', select_lat=select_lat, select_lon=select_lon, \n",
    "        header=\"Diese Karte zeigt den Anteil des Gesamtverbrauchs einer Gemeinde, der durch erneuerbare Energien (z.B. Photovoltaic) gedeckt wird. Der Anteil wird in Prozent angegeben.\")\n",
    "    \n",
    "    #karte für die Globalstrahlung\n",
    "    wms_globalstrahlung=WebMapService('https://wirtschaft-risby.bayern.de/RisGate/servlet/Globalstrahlung').url\n",
    "    def month_from_number(int):\n",
    "        months = ['januar', 'februar', 'maerz', 'april', 'mai', 'juni', 'juli', 'august', 'september', 'oktober', 'november', 'dezember', 'jahr']\n",
    "        return months[int-1]\n",
    "    strahlung_zeit = 'Globalstrahlung_' + month_from_number(month)\n",
    "    create_map(wms_url=wms_globalstrahlung, layer_name=strahlung_zeit, select_lat=select_lat, select_lon=select_lon,\n",
    "        header=\"Diese Karte zeigt die Globalstrahlung in Bayern. Die Globalstrahlung ist die Summe aus direkter und diffuser Strahlung. Die Globalstrahlung wird in kWh/m² angegeben.\")\n",
    "        \n",
    "    kwh_year_range = parse_xml(get_data_from_wms(wms_globalstrahlung, strahlung_zeit, select_lat, select_lon), 'radiation_class').split('-')\n",
    "    kwh_per_meter_per_year = (int(kwh_year_range[0]) + int(kwh_year_range[1])) / 2\n",
    "    if month != 13: kwh_per_meter_per_year = kwh_per_meter_per_year * 12\n",
    "    panel_kw = panel_watt / 1000\n",
    "    production_per_year = panel_kw * panel_area * efficiency * kwh_per_meter_per_year\n",
    "    cost_per_year = verbrauch_kwh_pro_jahr * price_kwh\n",
    "    savings_per_year = production_per_year * price_kwh\n",
    "    if savings_per_year > cost_per_year: savings_per_year = cost_per_year #sicherstellen, dass die Einsparungen nicht höher sind als die uhrsprünglichen Kosten\n",
    "    \n",
    "    \n",
    "    \n",
    "    \n",
    "    \n",
    "print(\"Hier können auch andere Werte eingegeben werden. Die Werte werden dann in der Karte angezeigt.\")\n",
    "\n",
    "#hier wird der Interaktive Teil erstellt\n",
    "widgets.interact(interact_pv_gem,\n",
    "    select_lat=widgets.FloatText(value='48.15451802076226', description='Longitude:', disabled=False, continuous_update=False, style={'description_width': 'initial'}, layout=widgets.Layout(width='fit-content')),\n",
    "    select_lon=widgets.FloatText(value='11.556412766827073', description='Latitude: ', disabled=False, continuous_update=False, style={'description_width': 'initial'}, layout=widgets.Layout(width='fit-content')),\n",
    "    month=widgets.IntSlider(min=1, max=13, step=1, value=13, description='Month (13 for whole year):', continuous_update=False, style={'description_width': 'initial'}, layout=widgets.Layout(width='40%')),\n",
    "    panel_watt=widgets.FloatText(value=600, description='Panel Watt:', disabled=False, continuous_update=False, style={'description_width': 'initial'}, layout=widgets.Layout(width='fit-content')),\n",
    "    price_balkonkraftwerk=widgets.FloatText(value=1070, description='Balkonkraftwerk Preis insgesammt in €:', disabled=False, continuous_update=False, style={'description_width': 'initial'}, layout=widgets.Layout(width='fit-content')),\n",
    "    price_kwh=widgets.FloatText(value=0.3, description='Price per kWh in €:', disabled=False, continuous_update=False, style={'description_width': 'initial'}, layout=widgets.Layout(width='fit-content')),\n",
    "    verbrauch_kwh_pro_jahr=widgets.FloatText(value=3000, description='Verbrauch kWh pro Jahr:', disabled=False, continuous_update=False, style={'description_width': 'initial'}, layout=widgets.Layout(width='fit-content')),\n",
    "    efficiency=widgets.FloatSlider(value=0.25, min=0, max=1, step=0.01, description='Efficiency:', disabled=False, continuous_update=False, style={'description_width': 'initial'}, layout=widgets.Layout(width='40%')),\n",
    "    panel_area=widgets.FloatText(value=3, description='Panel Area per Panel in m^2:', disabled=False, continuous_update=False, style={'description_width': 'initial'}, layout=widgets.Layout(width='fit-content'))\n",
    ")"
   ]
  },
  {
   "attachments": {},
   "cell_type": "markdown",
   "metadata": {},
   "source": [
    "## Data Analysis\n",
    "\n",
    "**Wie viel Energie kann ein Balkonkraftwerk erzeugen?**\n",
    "Hierzu nutzen wir die aus der Testanlage gewonnenen Daten.\n",
    "\n",
    "---\n",
    "\n",
    "**Wie viel Energie verbraucht ein Haushalt?**\n",
    "Hierzu werden Durchschnittsdaten aus dem [Bayerischen Staatsministerium für Wirtschaft, Landesentwicklung und Energie](https://www.stmwi.bayern.de) genutzt.\n",
    "\n",
    "---\n",
    "\n",
    "**Wie viel Energie kann ein Haushalt durch ein Balkonkraftwerk erzeugen?**\n",
    "Hierzu nutzen wir die aus der Testanlage gewonnenen Daten, sowie Erwartungswerte gewonnen aus den [Open Data Bayern](https://opendata.bayern) Datensätzen.\n",
    "Die Erwartungswerte werden sowohl als Durchschnitt als auch für die Monate berechnet. Hierzu werden Historische Daten genutzt.\n",
    "\n",
    "---\n",
    "\n",
    "**Wie viel Stromkosten kann ein Haushalt durch ein Balkonkraftwerk einsparen?**\n",
    "Um die eingesparten Stromkosten zu berechnen wird die Differenz zwischen dem Stromverbrauch und der Stromerzeugung durch das Balkonkraftwerk berechnet. Hierzu werden sowohl die Daten aus der Testanlage genutzt als auch Strompreisdaten.\n",
    "\n",
    "---\n",
    "\n",
    "**Wie schnell amortisiert sich ein Balkonkraftwerk?**\n",
    "Hierzu wird berechnet wie viel für das Balkonkraftwerk ausgegeben werden muss und wie viel durch das Balkonkraftwerk eingespart wird. Hierzu werden die Daten aus der Testanlage genutzt, sowie Strompreisdaten.\n"
   ]
  },
  {
   "attachments": {},
   "cell_type": "markdown",
   "metadata": {},
   "source": [
    "## Anonymization\n",
    "\n",
    "Wie schon in der [Datenvorbereitung](#data-preparation) erwähnt, wurden die Daten mit sensiblen Informationen anonymisiert.\n",
    "\n",
    "Da die in dieser Arbeit genutzten Daten aus öffentlichen Quellen stammen, wurden größtenteils nicht anonymisiert. Die Daten aus der Balkonkraftwerk-Testanlage in München wurden jedoch anonymisiert. Dies wurde durch das entfernen der IP-Adresse und des Standortes erreicht. Die Daten wurden sowohl in `src/data_raw` als auch in `src/data` anonymisiert.\n",
    "\n",
    "Der Grund für die Anonymisierung in diesem Fall der Datenschutz und die Privatsphäre der Nutzer. Die Daten wurden von einem privaten Haushalt erhoben und könnten somit Rückschlüsse auf den Haushalt zulassen. Dies soll durch die Anonymisierung verhindert werden."
   ]
  },
  {
   "attachments": {},
   "cell_type": "markdown",
   "metadata": {},
   "source": [
    "## Conclusion\n",
    "\n",
    "Die oben visualisierten Daten belegen, # TODO: FILL\n",
    "\n",
    "\n",
    "\n",
    "\n",
    "**Anmerkung:** \n",
    "*Hierzu sei zu beachten das einige Felder und Schieberegler bearbeitet werden können, um die Visualisierung zu verändern. Dies ist durch die Nutzung von [ipywidgets](https://ipywidgets.readthedocs.io/en/latest/) möglich. Die Visualisierung ist interaktiv und kann somit vom Nutzer verändert werden. Jegliche Schlussfolgerung die aus der Visualisierung gezogen werden beziehen sich auf die Standardwerte der Schieberegler. Dies dient dem zweck das der Nutzer hier, nicht nur aber auch, seinen eigenen Strompreis oder seinen eigenen Stromverbrauch eintragen kann und somit die Visualisierung für sich anpassen kann.*"
   ]
  },
  {
   "attachments": {},
   "cell_type": "markdown",
   "metadata": {},
   "source": [
    "## References\n",
    "\n",
    "- [<a id=\"ref1\">[1](#reref1)] : [Energiepreisentwicklung](https://www.destatis.de/DE/Presse/Pressemitteilungen/2022/03/PD22_N016_61.html)\n",
    "- [<a id=\"ref2\">[2](#reref2)] : []()"
   ]
  },
  {
   "cell_type": "markdown",
   "metadata": {},
   "source": [
    "## Schlusswort\n",
    "\n",
    "Das Projekt hat echt Spass gemacht, auch wenn die Themasuche etwas länger gedauert hat. Ich habe mich für das Thema Balkonkraftwerk entschieden da ich selbst an der Testanlage beteiligt bin und mich das Thema interessiert. Ehrlich gesagt freue ich mich schon drauf eine ähnliche Datenvisualisierung in mein Home-Assistant/Grafana Dashboard einzubauen wenn die Klausurenphase vorbei ist.\n",
    "\n",
    "Vielleicht überzeug das Projekt ja nicht nur als Modularbeit zum Landtagswahlkampd sondern auch sich Gedanken über ein Balkonkraftwerk zu machen. Man denke nur an die ganzen Balkone die in München bisher ungenutzt bleiben. \n",
    "\n",
    "Die Datei `src/testing.ipynb` hab ich extra drin gelassen da ich diese für die Entwicklung genutzt habe und sie mir als Dokumentation dient. Eventuell versteckt sich ja der ein oder andere interessante Code-Schnipsel darin. "
   ]
  },
  {
   "cell_type": "markdown",
   "metadata": {},
   "source": []
  }
 ],
 "metadata": {
  "kernelspec": {
   "display_name": "Python 3",
   "language": "python",
   "name": "python3"
  },
  "language_info": {
   "codemirror_mode": {
    "name": "ipython",
    "version": 3
   },
   "file_extension": ".py",
   "mimetype": "text/x-python",
   "name": "python",
   "nbconvert_exporter": "python",
   "pygments_lexer": "ipython3",
   "version": "3.10.9"
  },
  "orig_nbformat": 4
 },
 "nbformat": 4,
 "nbformat_minor": 2
}
